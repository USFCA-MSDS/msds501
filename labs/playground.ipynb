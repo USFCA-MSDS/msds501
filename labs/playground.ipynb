{
 "cells": [
  {
   "cell_type": "code",
   "execution_count": 1,
   "metadata": {},
   "outputs": [
    {
     "data": {
      "text/plain": [
       "' abigail advice antic antismoking'"
      ]
     },
     "execution_count": 1,
     "metadata": {},
     "output_type": "execute_result"
    }
   ],
   "source": [
    "words = ['abigail','advice','antic','antismoking']\n",
    "text = \"\"\n",
    "for w in words:\n",
    "    text = text + \" \" + w\n",
    "text"
   ]
  },
  {
   "cell_type": "code",
   "execution_count": 2,
   "metadata": {},
   "outputs": [
    {
     "data": {
      "text/plain": [
       "['ABIGAIL', 'ADVICE', 'ANTIC', 'ANTISMOKING']"
      ]
     },
     "execution_count": 2,
     "metadata": {},
     "output_type": "execute_result"
    }
   ],
   "source": [
    "[w.upper() for w in words]"
   ]
  },
  {
   "cell_type": "code",
   "execution_count": 3,
   "metadata": {},
   "outputs": [],
   "source": [
    "import numpy as np\n",
    "#scores = np.random.randint(5, 100, size=10)"
   ]
  },
  {
   "cell_type": "code",
   "execution_count": 4,
   "metadata": {},
   "outputs": [],
   "source": [
    "scores = [87, 47, 39, 36, 6, 57, 82, 45, 90, 89]\n",
    "p = -1\n",
    "for i in range(len(scores)):\n",
    "    if scores[i]==36:\n",
    "        p = i"
   ]
  },
  {
   "cell_type": "code",
   "execution_count": 5,
   "metadata": {},
   "outputs": [],
   "source": [
    "names = ['Olivia', 'Emma', 'Ava', 'Charlotte', 'Sophia', 'Amelia',\n",
    "         'Isabella', 'Mia', 'Evelyn', 'Harper']\n",
    "scores = [87, 47, 39, 36, 6, 57, 82, 45, 90, 89]\n",
    "v = 0\n",
    "results = []\n",
    "for n,s in zip(names,scores):\n",
    "    v += s\n",
    "    results.append(f\"{n}: {s}\")"
   ]
  },
  {
   "cell_type": "code",
   "execution_count": 6,
   "metadata": {},
   "outputs": [
    {
     "data": {
      "text/plain": [
       "['Olivia: 87',\n",
       " 'Emma: 47',\n",
       " 'Ava: 39',\n",
       " 'Charlotte: 36',\n",
       " 'Sophia: 6',\n",
       " 'Amelia: 57',\n",
       " 'Isabella: 82',\n",
       " 'Mia: 45',\n",
       " 'Evelyn: 90',\n",
       " 'Harper: 89']"
      ]
     },
     "execution_count": 6,
     "metadata": {},
     "output_type": "execute_result"
    }
   ],
   "source": [
    "results"
   ]
  },
  {
   "cell_type": "code",
   "execution_count": 7,
   "metadata": {},
   "outputs": [],
   "source": [
    "# import pandas as pd\n",
    "# df = pd.read_csv(\"../data/baby-names.csv\")\n",
    "# rank = df['rank'].values\n",
    "# male = df['male'].values\n",
    "# female = df['female'].values\n",
    "names =   [[1, 'Liam', 'Olivia'],\n",
    "           [2, 'Noah', 'Emma'],\n",
    "           [3, 'Oliver', 'Ava'],\n",
    "           [4, 'Elijah', 'Charlotte'],\n",
    "           [5, 'William', 'Sophia'],\n",
    "           [6, 'James', 'Amelia'],\n",
    "           [7, 'Benjamin', 'Isabella'],\n",
    "           [8, 'Lucas', 'Mia'],\n",
    "           [9, 'Henry', 'Evelyn'],\n",
    "           [10, 'Alexander', 'Harper']]"
   ]
  },
  {
   "cell_type": "code",
   "execution_count": 8,
   "metadata": {},
   "outputs": [
    {
     "ename": "SyntaxError",
     "evalue": "invalid syntax (<ipython-input-8-f61a907997dd>, line 7)",
     "output_type": "error",
     "traceback": [
      "\u001b[0;36m  File \u001b[0;32m\"<ipython-input-8-f61a907997dd>\"\u001b[0;36m, line \u001b[0;32m7\u001b[0m\n\u001b[0;31m    for\u001b[0m\n\u001b[0m        ^\u001b[0m\n\u001b[0;31mSyntaxError\u001b[0m\u001b[0;31m:\u001b[0m invalid syntax\n"
     ]
    }
   ],
   "source": [
    "rank = [ 1,  2,  3,  4,  5,  6,  7,  8,  9, 10]\n",
    "male = ['Liam', 'Noah', 'Oliver', 'Elijah', 'William', 'James', 'Benjamin',\n",
    "        'Lucas', 'Henry', 'Alexander']\n",
    "female = ['Olivia', 'Emma', 'Ava', 'Charlotte', 'Sophia', 'Amelia',\n",
    "        'Isabella', 'Mia', 'Evelyn', 'Harper']\n",
    "\n",
    "for "
   ]
  },
  {
   "cell_type": "code",
   "execution_count": null,
   "metadata": {},
   "outputs": [],
   "source": [
    "A=[[48, 53, 65, 67, 26],\n",
    "   [ 4, 74, 12, 56, 97],\n",
    "   [67, 50, 80, 45,  0],\n",
    "   [60, 28, 80, 28, 61],\n",
    "   [21,  1, 37, 58, 45]]\n",
    "\n",
    "s = 0\n",
    "n = 5\n",
    "for i in range(n):\n",
    "    for j in range(n):\n",
    "        s += A[i][j]\n",
    "s"
   ]
  },
  {
   "cell_type": "code",
   "execution_count": null,
   "metadata": {},
   "outputs": [],
   "source": [
    "s = 0\n",
    "n = 5\n",
    "for i in range(n):\n",
    "    for j in range(n):\n",
    "        if i == j:\n",
    "            s += matrix[i][j]\n",
    "s"
   ]
  },
  {
   "cell_type": "code",
   "execution_count": null,
   "metadata": {},
   "outputs": [],
   "source": [
    "np.array(np.random.randint(0, 100, size=25).reshape(5,5))"
   ]
  },
  {
   "cell_type": "code",
   "execution_count": null,
   "metadata": {},
   "outputs": [],
   "source": [
    "a = \"501\"\n",
    "b = 501"
   ]
  },
  {
   "cell_type": "code",
   "execution_count": null,
   "metadata": {},
   "outputs": [],
   "source": [
    "x = 7\n",
    "y = 7"
   ]
  },
  {
   "cell_type": "code",
   "execution_count": null,
   "metadata": {},
   "outputs": [],
   "source": [
    "id(x), id(y)"
   ]
  },
  {
   "cell_type": "code",
   "execution_count": null,
   "metadata": {},
   "outputs": [],
   "source": [
    "b = a\n",
    "id(a), id(b)"
   ]
  },
  {
   "cell_type": "code",
   "execution_count": null,
   "metadata": {},
   "outputs": [],
   "source": [
    "from lolviz import *"
   ]
  },
  {
   "cell_type": "code",
   "execution_count": null,
   "metadata": {},
   "outputs": [],
   "source": [
    "a = [1,3,5]\n",
    "b = [1,3,5]\n",
    "callsviz(varnames=['a','b'])"
   ]
  },
  {
   "cell_type": "code",
   "execution_count": null,
   "metadata": {},
   "outputs": [],
   "source": [
    "b = a\n",
    "callsviz(varnames=['a','b'])"
   ]
  },
  {
   "cell_type": "code",
   "execution_count": null,
   "metadata": {},
   "outputs": [],
   "source": [
    "a[2] = 99\n",
    "callsviz(varnames=['a','b'])"
   ]
  },
  {
   "cell_type": "code",
   "execution_count": null,
   "metadata": {},
   "outputs": [],
   "source": [
    "a"
   ]
  },
  {
   "cell_type": "code",
   "execution_count": null,
   "metadata": {},
   "outputs": [],
   "source": [
    "b"
   ]
  },
  {
   "cell_type": "code",
   "execution_count": null,
   "metadata": {},
   "outputs": [],
   "source": [
    "callsviz(varnames=['a','b'])"
   ]
  },
  {
   "cell_type": "code",
   "execution_count": null,
   "metadata": {},
   "outputs": [],
   "source": [
    "def f(data):\n",
    "    print(id(data))\n",
    "\n",
    "foo = [1,3,5]\n",
    "print(id(foo))\n",
    "f(foo)"
   ]
  },
  {
   "cell_type": "code",
   "execution_count": null,
   "metadata": {},
   "outputs": [],
   "source": [
    "prices = np.array([1,3,5])\n",
    "[p if p>1 else 99 for p in prices]"
   ]
  },
  {
   "cell_type": "code",
   "execution_count": null,
   "metadata": {},
   "outputs": [],
   "source": [
    "import numpy as np\n",
    "np.where(prices>1)"
   ]
  },
  {
   "cell_type": "code",
   "execution_count": null,
   "metadata": {},
   "outputs": [],
   "source": [
    "names =['a','b','c']\n",
    "scores = [100,70,30]\n",
    "list(zip(names,scores))"
   ]
  },
  {
   "cell_type": "code",
   "execution_count": null,
   "metadata": {},
   "outputs": [],
   "source": [
    "for x,y in zip(names,scores):\n",
    "    print(x,y)"
   ]
  },
  {
   "cell_type": "code",
   "execution_count": null,
   "metadata": {},
   "outputs": [],
   "source": [
    "sum(scores)"
   ]
  },
  {
   "cell_type": "code",
   "execution_count": null,
   "metadata": {},
   "outputs": [],
   "source": [
    "import math"
   ]
  },
  {
   "cell_type": "code",
   "execution_count": null,
   "metadata": {},
   "outputs": [],
   "source": [
    "dir(math)"
   ]
  },
  {
   "cell_type": "code",
   "execution_count": null,
   "metadata": {},
   "outputs": [],
   "source": [
    "type(math.pi)"
   ]
  },
  {
   "cell_type": "code",
   "execution_count": null,
   "metadata": {},
   "outputs": [],
   "source": [
    "import numpy"
   ]
  },
  {
   "cell_type": "code",
   "execution_count": null,
   "metadata": {},
   "outputs": [],
   "source": [
    "dir(numpy)"
   ]
  },
  {
   "cell_type": "code",
   "execution_count": null,
   "metadata": {},
   "outputs": [],
   "source": [
    "numpy.random.randint(3)"
   ]
  },
  {
   "cell_type": "code",
   "execution_count": null,
   "metadata": {},
   "outputs": [],
   "source": [
    "dir(numpy.random)"
   ]
  },
  {
   "cell_type": "code",
   "execution_count": null,
   "metadata": {},
   "outputs": [],
   "source": [
    "numpy.random"
   ]
  },
  {
   "cell_type": "code",
   "execution_count": 3,
   "metadata": {},
   "outputs": [
    {
     "data": {
      "image/svg+xml": [
       "<?xml version=\"1.0\" encoding=\"UTF-8\" standalone=\"no\"?>\n",
       "<!DOCTYPE svg PUBLIC \"-//W3C//DTD SVG 1.1//EN\"\n",
       " \"http://www.w3.org/Graphics/SVG/1.1/DTD/svg11.dtd\">\n",
       "<!-- Generated by graphviz version 2.47.3 (20210619.1520)\n",
       " -->\n",
       "<!-- Title: G Pages: 1 -->\n",
       "<svg width=\"53pt\" height=\"40pt\"\n",
       " viewBox=\"0.00 0.00 53.00 40.00\" xmlns=\"http://www.w3.org/2000/svg\" xmlns:xlink=\"http://www.w3.org/1999/xlink\">\n",
       "<g id=\"graph0\" class=\"graph\" transform=\"scale(1 1) rotate(0) translate(4 36)\">\n",
       "<title>G</title>\n",
       "<polygon fill=\"white\" stroke=\"transparent\" points=\"-4,4 -4,-36 49,-36 49,4 -4,4\"/>\n",
       "<!-- node140696536891144 -->\n",
       "<g id=\"node1\" class=\"node\">\n",
       "<title>node140696536891144</title>\n",
       "<polygon fill=\"none\" stroke=\"black\" stroke-width=\"0.5\" points=\"45,-32 0,-32 0,0 45,0 45,-32\"/>\n",
       "<polygon fill=\"#fefecd\" stroke=\"transparent\" points=\"1.5,-19 1.5,-31 14.5,-31 14.5,-19 1.5,-19\"/>\n",
       "<polyline fill=\"none\" stroke=\"black\" points=\"1.5,-19 14.5,-19 14.5,-31 \"/>\n",
       "<text text-anchor=\"start\" x=\"5\" y=\"-22.8\" font-family=\"Helvetica,sans-Serif\" font-size=\"9.00\" fill=\"#444443\">0</text>\n",
       "<polygon fill=\"#fefecd\" stroke=\"transparent\" points=\"14.5,-19 14.5,-31 27.5,-31 27.5,-19 14.5,-19\"/>\n",
       "<polyline fill=\"none\" stroke=\"black\" points=\"14.5,-19 27.5,-19 27.5,-31 \"/>\n",
       "<text text-anchor=\"start\" x=\"18\" y=\"-22.8\" font-family=\"Helvetica,sans-Serif\" font-size=\"9.00\" fill=\"#444443\">1</text>\n",
       "<polygon fill=\"#fefecd\" stroke=\"transparent\" points=\"27.5,-19 27.5,-31 44.5,-31 44.5,-19 27.5,-19\"/>\n",
       "<polyline fill=\"none\" stroke=\"black\" points=\"27.5,-19 44.5,-19 \"/>\n",
       "<text text-anchor=\"start\" x=\"33\" y=\"-22.8\" font-family=\"Helvetica,sans-Serif\" font-size=\"9.00\" fill=\"#444443\">2</text>\n",
       "<polygon fill=\"#fefecd\" stroke=\"transparent\" points=\"1.5,-1 1.5,-19 14.5,-19 14.5,-1 1.5,-1\"/>\n",
       "<polyline fill=\"none\" stroke=\"black\" points=\"14.5,-1 14.5,-19 \"/>\n",
       "<text text-anchor=\"start\" x=\"4.5\" y=\"-7.2\" font-family=\"Helvetica,sans-Serif\" font-size=\"11.00\" fill=\"#444443\">1</text>\n",
       "<polygon fill=\"#fefecd\" stroke=\"transparent\" points=\"14.5,-1 14.5,-19 27.5,-19 27.5,-1 14.5,-1\"/>\n",
       "<polyline fill=\"none\" stroke=\"black\" points=\"27.5,-1 27.5,-19 \"/>\n",
       "<text text-anchor=\"start\" x=\"17.5\" y=\"-7.2\" font-family=\"Helvetica,sans-Serif\" font-size=\"11.00\" fill=\"#444443\">3</text>\n",
       "<polygon fill=\"#fefecd\" stroke=\"transparent\" points=\"27.5,-1 27.5,-19 44.5,-19 44.5,-1 27.5,-1\"/>\n",
       "<text text-anchor=\"start\" x=\"29.5\" y=\"-7.2\" font-family=\"Helvetica,sans-Serif\" font-size=\"11.00\" fill=\"#444443\">54</text>\n",
       "</g>\n",
       "</g>\n",
       "</svg>\n"
      ],
      "text/plain": [
       "<graphviz.files.Source at 0x7ff675cbbcf8>"
      ]
     },
     "execution_count": 3,
     "metadata": {},
     "output_type": "execute_result"
    }
   ],
   "source": [
    "from lolviz import callsviz, objviz\n",
    "objviz({1,3,54})\n",
    "#callsviz(varnames=['names','scores'])"
   ]
  },
  {
   "cell_type": "code",
   "execution_count": null,
   "metadata": {},
   "outputs": [],
   "source": [
    "sum([1,3,5])"
   ]
  },
  {
   "cell_type": "code",
   "execution_count": null,
   "metadata": {},
   "outputs": [],
   "source": [
    "type(sum)"
   ]
  },
  {
   "cell_type": "code",
   "execution_count": null,
   "metadata": {},
   "outputs": [],
   "source": [
    "from numpy import sum"
   ]
  },
  {
   "cell_type": "code",
   "execution_count": null,
   "metadata": {},
   "outputs": [],
   "source": [
    "np.sum"
   ]
  },
  {
   "cell_type": "code",
   "execution_count": null,
   "metadata": {},
   "outputs": [],
   "source": [
    "from lolviz import callsviz\n",
    "objviz({1,3,54})\n",
    "callsviz(varnames=['names','scores'])"
   ]
  },
  {
   "cell_type": "code",
   "execution_count": null,
   "metadata": {},
   "outputs": [],
   "source": [
    "import numpy.random"
   ]
  },
  {
   "cell_type": "code",
   "execution_count": null,
   "metadata": {},
   "outputs": [],
   "source": [
    "numpy.random.randint(3)"
   ]
  },
  {
   "cell_type": "code",
   "execution_count": 11,
   "metadata": {},
   "outputs": [],
   "source": [
    "def foo():\n",
    "    print(\"hi mom\")\n"
   ]
  },
  {
   "cell_type": "code",
   "execution_count": 13,
   "metadata": {},
   "outputs": [
    {
     "name": "stdout",
     "output_type": "stream",
     "text": [
      "hi mom\n"
     ]
    }
   ],
   "source": [
    "foo()"
   ]
  }
 ],
 "metadata": {
  "kernelspec": {
   "display_name": "Python 3",
   "language": "python",
   "name": "python3"
  },
  "language_info": {
   "codemirror_mode": {
    "name": "ipython",
    "version": 3
   },
   "file_extension": ".py",
   "mimetype": "text/x-python",
   "name": "python",
   "nbconvert_exporter": "python",
   "pygments_lexer": "ipython3",
   "version": "3.7.3"
  }
 },
 "nbformat": 4,
 "nbformat_minor": 5
}
