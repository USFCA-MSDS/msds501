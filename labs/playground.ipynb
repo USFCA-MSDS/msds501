{
 "cells": [
  {
   "cell_type": "code",
   "execution_count": 20,
   "id": "2ff381a9",
   "metadata": {},
   "outputs": [
    {
     "data": {
      "text/plain": [
       "' abigail advice antic antismoking'"
      ]
     },
     "execution_count": 20,
     "metadata": {},
     "output_type": "execute_result"
    }
   ],
   "source": [
    "words = ['abigail','advice','antic','antismoking']\n",
    "text = \"\"\n",
    "for w in words:\n",
    "    text = text + \" \" + w\n",
    "text"
   ]
  },
  {
   "cell_type": "code",
   "execution_count": 21,
   "id": "437f2d04",
   "metadata": {},
   "outputs": [
    {
     "data": {
      "text/plain": [
       "['ABIGAIL', 'ADVICE', 'ANTIC', 'ANTISMOKING']"
      ]
     },
     "execution_count": 21,
     "metadata": {},
     "output_type": "execute_result"
    }
   ],
   "source": [
    "[w.upper() for w in words]"
   ]
  },
  {
   "cell_type": "code",
   "execution_count": 22,
   "id": "1405bc20",
   "metadata": {},
   "outputs": [],
   "source": [
    "import numpy as np\n",
    "#scores = np.random.randint(5, 100, size=10)"
   ]
  },
  {
   "cell_type": "code",
   "execution_count": 23,
   "id": "810d87fe",
   "metadata": {},
   "outputs": [],
   "source": [
    "scores = [87, 47, 39, 36, 6, 57, 82, 45, 90, 89]\n",
    "p = -1\n",
    "for i in range(len(scores)):\n",
    "    if scores[i]==36:\n",
    "        p = i"
   ]
  },
  {
   "cell_type": "code",
   "execution_count": 24,
   "id": "b1b66886",
   "metadata": {},
   "outputs": [],
   "source": [
    "names = ['Olivia', 'Emma', 'Ava', 'Charlotte', 'Sophia', 'Amelia',\n",
    "         'Isabella', 'Mia', 'Evelyn', 'Harper']\n",
    "scores = [87, 47, 39, 36, 6, 57, 82, 45, 90, 89]\n",
    "v = 0\n",
    "results = []\n",
    "for n,s in zip(names,scores):\n",
    "    v += s\n",
    "    results.append(f\"{n}: {s}\")"
   ]
  },
  {
   "cell_type": "code",
   "execution_count": 25,
   "id": "0951ead3",
   "metadata": {},
   "outputs": [
    {
     "data": {
      "text/plain": [
       "['Olivia: 87',\n",
       " 'Emma: 47',\n",
       " 'Ava: 39',\n",
       " 'Charlotte: 36',\n",
       " 'Sophia: 6',\n",
       " 'Amelia: 57',\n",
       " 'Isabella: 82',\n",
       " 'Mia: 45',\n",
       " 'Evelyn: 90',\n",
       " 'Harper: 89']"
      ]
     },
     "execution_count": 25,
     "metadata": {},
     "output_type": "execute_result"
    }
   ],
   "source": [
    "results"
   ]
  },
  {
   "cell_type": "code",
   "execution_count": 26,
   "id": "0f975024",
   "metadata": {},
   "outputs": [],
   "source": [
    "# import pandas as pd\n",
    "# df = pd.read_csv(\"../data/baby-names.csv\")\n",
    "# rank = df['rank'].values\n",
    "# male = df['male'].values\n",
    "# female = df['female'].values\n",
    "names =   [[1, 'Liam', 'Olivia'],\n",
    "           [2, 'Noah', 'Emma'],\n",
    "           [3, 'Oliver', 'Ava'],\n",
    "           [4, 'Elijah', 'Charlotte'],\n",
    "           [5, 'William', 'Sophia'],\n",
    "           [6, 'James', 'Amelia'],\n",
    "           [7, 'Benjamin', 'Isabella'],\n",
    "           [8, 'Lucas', 'Mia'],\n",
    "           [9, 'Henry', 'Evelyn'],\n",
    "           [10, 'Alexander', 'Harper']]"
   ]
  },
  {
   "cell_type": "code",
   "execution_count": 27,
   "id": "3c15fda6",
   "metadata": {},
   "outputs": [
    {
     "ename": "SyntaxError",
     "evalue": "invalid syntax (<ipython-input-27-f61a907997dd>, line 7)",
     "output_type": "error",
     "traceback": [
      "\u001b[0;36m  File \u001b[0;32m\"<ipython-input-27-f61a907997dd>\"\u001b[0;36m, line \u001b[0;32m7\u001b[0m\n\u001b[0;31m    for\u001b[0m\n\u001b[0m        ^\u001b[0m\n\u001b[0;31mSyntaxError\u001b[0m\u001b[0;31m:\u001b[0m invalid syntax\n"
     ]
    }
   ],
   "source": [
    "rank = [ 1,  2,  3,  4,  5,  6,  7,  8,  9, 10]\n",
    "male = ['Liam', 'Noah', 'Oliver', 'Elijah', 'William', 'James', 'Benjamin',\n",
    "        'Lucas', 'Henry', 'Alexander']\n",
    "female = ['Olivia', 'Emma', 'Ava', 'Charlotte', 'Sophia', 'Amelia',\n",
    "        'Isabella', 'Mia', 'Evelyn', 'Harper']\n",
    "\n",
    "for "
   ]
  },
  {
   "cell_type": "code",
   "execution_count": null,
   "id": "c77ace1a",
   "metadata": {},
   "outputs": [],
   "source": [
    "A=[[48, 53, 65, 67, 26],\n",
    "   [ 4, 74, 12, 56, 97],\n",
    "   [67, 50, 80, 45,  0],\n",
    "   [60, 28, 80, 28, 61],\n",
    "   [21,  1, 37, 58, 45]]\n",
    "\n",
    "s = 0\n",
    "n = 5\n",
    "for i in range(n):\n",
    "    for j in range(n):\n",
    "        s += A[i][j]\n",
    "s"
   ]
  },
  {
   "cell_type": "code",
   "execution_count": null,
   "id": "0940a3e2",
   "metadata": {},
   "outputs": [],
   "source": [
    "s = 0\n",
    "n = 5\n",
    "for i in range(n):\n",
    "    for j in range(n):\n",
    "        if i == j:\n",
    "            s += matrix[i][j]\n",
    "s"
   ]
  },
  {
   "cell_type": "code",
   "execution_count": null,
   "id": "aed9db24",
   "metadata": {},
   "outputs": [],
   "source": [
    "np.array(np.random.randint(0, 100, size=25).reshape(5,5))"
   ]
  },
  {
   "cell_type": "code",
   "execution_count": null,
   "id": "652065c6",
   "metadata": {},
   "outputs": [],
   "source": [
    "a = \"501\"\n",
    "b = 501"
   ]
  },
  {
   "cell_type": "code",
   "execution_count": null,
   "id": "40afa067",
   "metadata": {},
   "outputs": [],
   "source": [
    "x = 7\n",
    "y = 7"
   ]
  },
  {
   "cell_type": "code",
   "execution_count": null,
   "id": "efceac13",
   "metadata": {},
   "outputs": [],
   "source": [
    "id(x), id(y)"
   ]
  },
  {
   "cell_type": "code",
   "execution_count": null,
   "id": "8fd72906",
   "metadata": {},
   "outputs": [],
   "source": [
    "b = a\n",
    "id(a), id(b)"
   ]
  },
  {
   "cell_type": "code",
   "execution_count": null,
   "id": "d437354a",
   "metadata": {},
   "outputs": [],
   "source": [
    "from lolviz import *"
   ]
  },
  {
   "cell_type": "code",
   "execution_count": null,
   "id": "b14e349e",
   "metadata": {},
   "outputs": [],
   "source": [
    "a = [1,3,5]\n",
    "b = [1,3,5]\n",
    "callsviz(varnames=['a','b'])"
   ]
  },
  {
   "cell_type": "code",
   "execution_count": null,
   "id": "1b9a0340",
   "metadata": {},
   "outputs": [],
   "source": [
    "b = a\n",
    "callsviz(varnames=['a','b'])"
   ]
  },
  {
   "cell_type": "code",
   "execution_count": null,
   "id": "d52d308e",
   "metadata": {},
   "outputs": [],
   "source": [
    "a[2] = 99\n",
    "callsviz(varnames=['a','b'])"
   ]
  },
  {
   "cell_type": "code",
   "execution_count": null,
   "id": "618d375e",
   "metadata": {},
   "outputs": [],
   "source": [
    "a"
   ]
  },
  {
   "cell_type": "code",
   "execution_count": null,
   "id": "461122bc",
   "metadata": {},
   "outputs": [],
   "source": [
    "b"
   ]
  },
  {
   "cell_type": "code",
   "execution_count": null,
   "id": "766dafc0",
   "metadata": {},
   "outputs": [],
   "source": [
    "callsviz(varnames=['a','b'])"
   ]
  },
  {
   "cell_type": "code",
   "execution_count": null,
   "id": "452113bc",
   "metadata": {},
   "outputs": [],
   "source": [
    "def f(data):\n",
    "    print(id(data))\n",
    "\n",
    "foo = [1,3,5]\n",
    "print(id(foo))\n",
    "f(foo)"
   ]
  },
  {
   "cell_type": "code",
   "execution_count": null,
   "id": "99b17aa4",
   "metadata": {},
   "outputs": [],
   "source": [
    "prices = np.array([1,3,5])\n",
    "[p if p>1 else 99 for p in prices]"
   ]
  },
  {
   "cell_type": "code",
   "execution_count": null,
   "id": "603c50a4",
   "metadata": {},
   "outputs": [],
   "source": [
    "import numpy as np\n",
    "np.where(prices>1)"
   ]
  },
  {
   "cell_type": "code",
   "execution_count": null,
   "id": "1a1953dc",
   "metadata": {},
   "outputs": [],
   "source": [
    "names =['a','b','c']\n",
    "scores = [100,70,30]\n",
    "list(zip(names,scores))"
   ]
  },
  {
   "cell_type": "code",
   "execution_count": null,
   "id": "13df1dd7",
   "metadata": {},
   "outputs": [],
   "source": [
    "for x,y in zip(names,scores):\n",
    "    print(x,y)"
   ]
  },
  {
   "cell_type": "code",
   "execution_count": null,
   "id": "8b109287",
   "metadata": {},
   "outputs": [],
   "source": [
    "sum(scores)"
   ]
  },
  {
   "cell_type": "code",
   "execution_count": null,
   "id": "0119cdfc",
   "metadata": {},
   "outputs": [],
   "source": [
    "import math"
   ]
  },
  {
   "cell_type": "code",
   "execution_count": null,
   "id": "4f1d6df7",
   "metadata": {},
   "outputs": [],
   "source": [
    "dir(math)"
   ]
  },
  {
   "cell_type": "code",
   "execution_count": null,
   "id": "857469e4",
   "metadata": {},
   "outputs": [],
   "source": [
    "type(math.pi)"
   ]
  },
  {
   "cell_type": "code",
   "execution_count": null,
   "id": "81f5aa47",
   "metadata": {},
   "outputs": [],
   "source": [
    "import numpy"
   ]
  },
  {
   "cell_type": "code",
   "execution_count": null,
   "id": "b95fd4a2",
   "metadata": {},
   "outputs": [],
   "source": [
    "dir(numpy)"
   ]
  },
  {
   "cell_type": "code",
   "execution_count": null,
   "id": "5e6efbe4",
   "metadata": {},
   "outputs": [],
   "source": [
    "numpy.random.randint(3)"
   ]
  },
  {
   "cell_type": "code",
   "execution_count": null,
   "id": "aa8770e2",
   "metadata": {},
   "outputs": [],
   "source": [
    "dir(numpy.random)"
   ]
  },
  {
   "cell_type": "code",
   "execution_count": null,
   "id": "a97956b4",
   "metadata": {},
   "outputs": [],
   "source": [
    "numpy.random"
   ]
  },
  {
   "cell_type": "code",
   "execution_count": null,
   "id": "fe594046",
   "metadata": {},
   "outputs": [],
   "source": [
    "from lolviz import callsviz, objviz\n",
    "objviz({1,3,54})\n",
    "#callsviz(varnames=['names','scores'])"
   ]
  },
  {
   "cell_type": "code",
   "execution_count": null,
   "id": "ef9347cf",
   "metadata": {},
   "outputs": [],
   "source": [
    "sum([1,3,5])"
   ]
  },
  {
   "cell_type": "code",
   "execution_count": null,
   "id": "8356422e",
   "metadata": {},
   "outputs": [],
   "source": [
    "type(sum)"
   ]
  },
  {
   "cell_type": "code",
   "execution_count": null,
   "id": "745a9073",
   "metadata": {},
   "outputs": [],
   "source": [
    "from numpy import sum"
   ]
  },
  {
   "cell_type": "code",
   "execution_count": null,
   "id": "8bf67be6",
   "metadata": {},
   "outputs": [],
   "source": [
    "np.sum"
   ]
  },
  {
   "cell_type": "code",
   "execution_count": null,
   "id": "ce0bd7e8",
   "metadata": {},
   "outputs": [],
   "source": [
    "from lolviz import callsviz\n",
    "objviz({1,3,54})\n",
    "callsviz(varnames=['names','scores'])"
   ]
  },
  {
   "cell_type": "code",
   "execution_count": null,
   "id": "bf212332",
   "metadata": {},
   "outputs": [],
   "source": [
    "import numpy.random"
   ]
  },
  {
   "cell_type": "code",
   "execution_count": null,
   "id": "989aad06",
   "metadata": {},
   "outputs": [],
   "source": [
    "numpy.random.randint(3)"
   ]
  },
  {
   "cell_type": "code",
   "execution_count": null,
   "id": "8bf9da35",
   "metadata": {},
   "outputs": [],
   "source": [
    "def foo():\n",
    "    print(\"hi mom\")\n"
   ]
  },
  {
   "cell_type": "code",
   "execution_count": null,
   "id": "dce7c13f",
   "metadata": {},
   "outputs": [],
   "source": [
    "foo()"
   ]
  },
  {
   "cell_type": "code",
   "execution_count": 33,
   "id": "737c1c8c",
   "metadata": {},
   "outputs": [
    {
     "name": "stdout",
     "output_type": "stream",
     "text": [
      "['0.605', '0.600', '0.594']\n",
      "True\n"
     ]
    }
   ],
   "source": [
    "with open(\"../data/prices.txt\", \"r\") as f:\n",
    "    contents = f.read()\n",
    "lines = contents.split()\n",
    "print(lines[0:3])\n",
    "print(f.closed)"
   ]
  },
  {
   "cell_type": "code",
   "execution_count": 1,
   "id": "3906726b",
   "metadata": {},
   "outputs": [
    {
     "data": {
      "text/plain": [
       "8.006367567650246"
      ]
     },
     "execution_count": 1,
     "metadata": {},
     "output_type": "execute_result"
    }
   ],
   "source": [
    "import math\n",
    "math.log(3000)"
   ]
  },
  {
   "cell_type": "code",
   "execution_count": 2,
   "id": "225207e7-fff1-4821-892b-140205c2564b",
   "metadata": {},
   "outputs": [
    {
     "data": {
      "text/plain": [
       "'Hi'"
      ]
     },
     "execution_count": 2,
     "metadata": {},
     "output_type": "execute_result"
    }
   ],
   "source": [
    "\" Hi\\n\".strip()"
   ]
  },
  {
   "cell_type": "code",
   "execution_count": 10,
   "id": "d626914a-0ab7-47df-84e4-ffbf7b2a5c1d",
   "metadata": {},
   "outputs": [],
   "source": [
    "class Point:\n",
    "    def __init__(self, x, y):\n",
    "        self.x = x\n",
    "        self.y = y\n",
    "    def __str__(self):\n",
    "        return f\"({self.x},{self.y})\"\n",
    "    \n",
    "class Rectangle:\n",
    "    def __init__(self, llx, lly, urx, ury):\n",
    "        self.ll = Point(llx, lly)\n",
    "        self.ur = Point(urx, ury)\n",
    "    def area(self):\n",
    "        return (self.ur.x - self.ll.x) * (self.ur.y - self.ll.y)"
   ]
  },
  {
   "cell_type": "code",
   "execution_count": 12,
   "id": "76437f42-0af0-4a49-ab05-a77189eacd6b",
   "metadata": {},
   "outputs": [
    {
     "data": {
      "text/plain": [
       "100"
      ]
     },
     "execution_count": 12,
     "metadata": {},
     "output_type": "execute_result"
    }
   ],
   "source": [
    "r = Rectangle(0,0, 10, 10)\n",
    "r.area()"
   ]
  },
  {
   "cell_type": "code",
   "execution_count": null,
   "id": "ad89dcc7-f32a-4582-8854-66c5157a0261",
   "metadata": {},
   "outputs": [],
   "source": []
  }
 ],
 "metadata": {
  "kernelspec": {
   "display_name": "Python 3",
   "language": "python",
   "name": "python3"
  },
  "language_info": {
   "codemirror_mode": {
    "name": "ipython",
    "version": 3
   },
   "file_extension": ".py",
   "mimetype": "text/x-python",
   "name": "python",
   "nbconvert_exporter": "python",
   "pygments_lexer": "ipython3",
   "version": "3.8.8"
  }
 },
 "nbformat": 4,
 "nbformat_minor": 5
}
